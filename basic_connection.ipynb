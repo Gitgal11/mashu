{
 "cells": [
  {
   "cell_type": "code",
   "execution_count": 24,
   "metadata": {},
   "outputs": [],
   "source": [
    "import boto3\n",
    "import pandas as pd\n",
    "\n",
    "table_name = 'beacons'\n",
    "client = boto3.client('dynamodb')\n"
   ]
  },
  {
   "cell_type": "code",
   "execution_count": 26,
   "metadata": {},
   "outputs": [],
   "source": [
    "\n",
    "response = client.query(\n",
    "    TableName=table_name,\n",
    "     KeyConditionExpression='#src = :tracker_1 AND timestamp_ms BETWEEN :start AND :end', \n",
    "    ExpressionAttributeNames={\n",
    "        '#src': 'source'  # Assuming 'source' is the name of your primary partition key\n",
    "    },\n",
    "    ExpressionAttributeValues={\n",
    "        ':tracker_1': {'S': 'traker_1'} ,\n",
    "        ':start': {'S': str(start_timestamp)},\n",
    "        ':end': {'S': str(end_timestamp)} \n",
    "    }\n",
    ")"
   ]
  },
  {
   "cell_type": "code",
   "execution_count": 83,
   "metadata": {},
   "outputs": [
    {
     "name": "stdout",
     "output_type": "stream",
     "text": [
      "we have 3 samples from 1 Beacons\n"
     ]
    }
   ],
   "source": [
    "start_timestamp = 1724251853000\n",
    "end_timestamp   = 1724251853000 + 120000\n",
    "\n",
    "items = response['Items']\n",
    "beacons = []\n",
    "for item in items:\n",
    "    beacons.append([item['timestamp_ms']['S'], item['source']['S'], item['rssi']['N'], item['mac']['S']]) \n",
    "\n",
    "dtype = {'timestamp_ms': 'int64', 'source': 'str', 'rssi': 'int64', 'mac': 'str'}\n",
    "df = pd.DataFrame(beacons, columns=['timestamp_ms', 'source', 'rssi', 'mac']).astype(dtype)\n",
    "\n",
    "print(f'we have {len(df)} samples from', len(df['mac'].unique()), 'Beacons') "
   ]
  },
  {
   "cell_type": "code",
   "execution_count": 90,
   "metadata": {},
   "outputs": [
    {
     "name": "stdout",
     "output_type": "stream",
     "text": [
      "    timestamp_ms  rssi\n",
      "0  1724251894209   -79\n",
      "1  1724251894283   -82\n",
      "2  1724251894407   -84\n",
      "    timestamp_ms  rssi\n",
      "0  1724251894209   -79\n",
      "1  1724251894283   -82\n",
      "2  1724251894407   -84\n",
      "    timestamp_ms  rssi\n",
      "0  1724251894209   -79\n",
      "1  1724251894283   -82\n",
      "2  1724251894407   -84\n"
     ]
    }
   ],
   "source": [
    "treshold = 70 \n",
    "\n",
    "for fr in range(len(df[['timestamp_ms' , 'rssi']])):\n",
    "    print(df[['timestamp_ms' , 'rssi']])\n",
    "\n",
    " #   if \n",
    "#print(df[['timestamp_ms' , 'rssi']])"
   ]
  },
  {
   "cell_type": "code",
   "execution_count": 93,
   "metadata": {},
   "outputs": [
    {
     "data": {
      "text/plain": [
       "61.7037037037037"
      ]
     },
     "execution_count": 93,
     "metadata": {},
     "output_type": "execute_result"
    }
   ],
   "source": [
    "\n",
    "\n"
   ]
  },
  {
   "cell_type": "code",
   "execution_count": 38,
   "metadata": {},
   "outputs": [
    {
     "name": "stdout",
     "output_type": "stream",
     "text": [
      "beacon: ea:10:2f:0e:f1:c5 is outside the room\n"
     ]
    }
   ],
   "source": [
    "# print mac addresses for beacons inside the room and beacons outside the room\n",
    "df_place = df.groupby(['mac']).max().sort_values(by='rssi', ascending=False)['rssi'] > -75\n",
    "for mac in df_place.index:\n",
    "    if df_place[mac]:\n",
    "        print(f\"beacon: {mac} is inside the room\")\n",
    "    else:\n",
    "        print(f\"beacon: {mac} is outside the room\")"
   ]
  },
  {
   "cell_type": "code",
   "execution_count": 80,
   "metadata": {},
   "outputs": [
    {
     "ename": "SyntaxError",
     "evalue": "invalid syntax (4139870026.py, line 1)",
     "output_type": "error",
     "traceback": [
      "\u001b[1;36m  Cell \u001b[1;32mIn[80], line 1\u001b[1;36m\u001b[0m\n\u001b[1;33m    df.(['mac'])['rssi'].sort_values(ascending=False)\u001b[0m\n\u001b[1;37m       ^\u001b[0m\n\u001b[1;31mSyntaxError\u001b[0m\u001b[1;31m:\u001b[0m invalid syntax\n"
     ]
    }
   ],
   "source": [
    "df.groupby(['mac'])['rssi'].sort_values(ascending=False)"
   ]
  },
  {
   "cell_type": "code",
   "execution_count": 47,
   "metadata": {},
   "outputs": [
    {
     "name": "stdout",
     "output_type": "stream",
     "text": [
      "    timestamp_ms    source  rssi                mac\n",
      "0  1724251894209  traker_1   -79  ea:10:2f:0e:f1:c5\n",
      "1  1724251894283  traker_1   -82  ea:10:2f:0e:f1:c5\n",
      "2  1724251894407  traker_1   -84  ea:10:2f:0e:f1:c5\n",
      "we have 3 samples\n"
     ]
    }
   ],
   "source": [
    "# bench dome experience\n",
    "print(f'we have {len(df)} samples')"
   ]
  },
  {
   "cell_type": "code",
   "execution_count": 31,
   "metadata": {},
   "outputs": [
    {
     "data": {
      "text/html": [
       "<div>\n",
       "<style scoped>\n",
       "    .dataframe tbody tr th:only-of-type {\n",
       "        vertical-align: middle;\n",
       "    }\n",
       "\n",
       "    .dataframe tbody tr th {\n",
       "        vertical-align: top;\n",
       "    }\n",
       "\n",
       "    .dataframe thead th {\n",
       "        text-align: right;\n",
       "    }\n",
       "</style>\n",
       "<table border=\"1\" class=\"dataframe\">\n",
       "  <thead>\n",
       "    <tr style=\"text-align: right;\">\n",
       "      <th></th>\n",
       "      <th>timestamp_ms</th>\n",
       "      <th>source</th>\n",
       "      <th>rssi</th>\n",
       "      <th>mac</th>\n",
       "    </tr>\n",
       "  </thead>\n",
       "  <tbody>\n",
       "    <tr>\n",
       "      <th>0</th>\n",
       "      <td>1724251894209</td>\n",
       "      <td>traker_1</td>\n",
       "      <td>-79</td>\n",
       "      <td>ea:10:2f:0e:f1:c5</td>\n",
       "    </tr>\n",
       "    <tr>\n",
       "      <th>1</th>\n",
       "      <td>1724251894283</td>\n",
       "      <td>traker_1</td>\n",
       "      <td>-82</td>\n",
       "      <td>ea:10:2f:0e:f1:c5</td>\n",
       "    </tr>\n",
       "    <tr>\n",
       "      <th>2</th>\n",
       "      <td>1724251894407</td>\n",
       "      <td>traker_1</td>\n",
       "      <td>-84</td>\n",
       "      <td>ea:10:2f:0e:f1:c5</td>\n",
       "    </tr>\n",
       "  </tbody>\n",
       "</table>\n",
       "</div>"
      ],
      "text/plain": [
       "    timestamp_ms    source  rssi                mac\n",
       "0  1724251894209  traker_1   -79  ea:10:2f:0e:f1:c5\n",
       "1  1724251894283  traker_1   -82  ea:10:2f:0e:f1:c5\n",
       "2  1724251894407  traker_1   -84  ea:10:2f:0e:f1:c5"
      ]
     },
     "execution_count": 31,
     "metadata": {},
     "output_type": "execute_result"
    }
   ],
   "source": [
    "df"
   ]
  },
  {
   "cell_type": "code",
   "execution_count": null,
   "metadata": {},
   "outputs": [],
   "source": [
    "# commit 1"
   ]
  }
 ],
 "metadata": {
  "kernelspec": {
   "display_name": ".venv",
   "language": "python",
   "name": "python3"
  },
  "language_info": {
   "codemirror_mode": {
    "name": "ipython",
    "version": 3
   },
   "file_extension": ".py",
   "mimetype": "text/x-python",
   "name": "python",
   "nbconvert_exporter": "python",
   "pygments_lexer": "ipython3",
   "version": "3.10.11"
  }
 },
 "nbformat": 4,
 "nbformat_minor": 2
}
